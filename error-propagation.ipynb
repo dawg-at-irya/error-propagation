{
  "nbformat": 4,
  "nbformat_minor": 0,
  "metadata": {
    "colab": {
      "provenance": [],
      "authorship_tag": "ABX9TyPCl59LN4eLgRm/9i9evXkD",
      "include_colab_link": true
    },
    "kernelspec": {
      "name": "python3",
      "display_name": "Python 3"
    },
    "language_info": {
      "name": "python"
    }
  },
  "cells": [
    {
      "cell_type": "markdown",
      "metadata": {
        "id": "view-in-github",
        "colab_type": "text"
      },
      "source": [
        "<a href=\"https://colab.research.google.com/github/dawg-at-irya/error-propagation/blob/main/error-propagation.ipynb\" target=\"_parent\"><img src=\"https://colab.research.google.com/assets/colab-badge.svg\" alt=\"Open In Colab\"/></a>"
      ]
    },
    {
      "cell_type": "markdown",
      "source": [
        "# Error propagation\n",
        "\n",
        "### Here are three typical situations requiring error propagation:\n",
        "\n",
        "\n",
        "1.   The mass of a binary system is estimated to be $4.5\\pm 1.2$ M$_\\odot$. The mass of the primary is independently estimated to be $3.1\\pm 0.8$ M$_\\odot$. Assuming that both uncertainties are due to Gaussian random noise, what is the secondary mass and its associated uncertainty?\n",
        "\n",
        "2.   A faint source is measured to have a magnitude 21.006 mag in the 2MASS $J$ band. The uncertainty in this measurement is 0.512/2.406/4.001 mag. Assuming that the uncertainty is due to Gaussian random noise, what is the corresponding $J$-band flux and its uncertainty?\n",
        "\n",
        "3.   The Chandrasekhar-Fermi method (Chandrasekhar & Fermi 1953) relates the plane-of-sky field strength to the number density and the dispersions in velocity (km s$^{-1}$) and polarisation angle ($^\\circ$):<br><br>\n",
        "$B_{\\rm pos}\\approx 9.3\\displaystyle{\\sqrt{n(\\textrm{H}_2)}\\ \\Delta v\\over \\langle\\sigma_\\theta\\rangle}$ $\\mu$G<br><br>\n",
        "Given $\\Delta v=3.12\\pm 0.73$ km s$^{-1}$, $\\langle\\sigma_\\theta\\rangle=(4.0\\pm 0.3)^\\circ$, and $n(\\textrm{H}_2)=8.3\\pm 6.6 \\times 10^{6}$ cm$^{-3}$, find $B_{\\rm pos}$ and its uncertainty, assuming that all provided uncertainties are Gaussian.\n",
        "\n",
        "In this notebook, we will discuss the first two situations."
      ],
      "metadata": {
        "id": "jGcuNEmA_wuS"
      }
    },
    {
      "cell_type": "markdown",
      "source": [
        "# Problem 1: the uncertainty of the sum/difference of two Gaussian variables."
      ],
      "metadata": {
        "id": "09_dgCeBRPmn"
      }
    },
    {
      "cell_type": "markdown",
      "source": [
        "This problem is the easiest to solve, and its solution does not depend on the relative quality of the data (i.e., the relative uncertainty).<br>\n",
        "\n",
        "In frequentist statistics, the binary system has a single \"true mass\" which is known only to Nature. Repeated measurements result in differing estimates of this true mass because the observations are noisy:<br>\n",
        "$m_{\\rm obs} = m_{\\rm true} + \\epsilon$<br>\n",
        "If the noise is random, then its long-term average is zero. Gaussian random noise means that the values of $\\epsilon$ are drawn from a Gaussian distribution. This also means that repeated observations will result in a Gaussian distribution of $m_{\\rm obs}$ around $m_{\\rm true}$ with a standard deviation equal to the standard deviation of $\\epsilon$."
      ],
      "metadata": {
        "id": "c82rFi33XaXw"
      }
    },
    {
      "cell_type": "code",
      "source": [
        "import matplotlib.pyplot as plt\n",
        "m_true = 4.591\n",
        "m_obs = 4.50\n",
        "sig_eps = 0.1\n",
        "np.random.seed(1001) # reproducibility\n",
        "m_samp = norm.rvs(loc=m_true, scale=sig_eps, size=1000)\n",
        "\n",
        "c = plt.hist(m_samp, histtype='step')\n",
        "plt.plot([m_true, m_true], [0, c[0].max()], 'k--', label='true mass')\n",
        "plt.plot([m_obs, m_obs], [0, c[0].max()], 'r--', label=r'observed mass')\n",
        "plt.ylim(0, c[0].max() * 1.05)\n",
        "plt.title(r'1000 observations of system mass with $\\sigma_{\\rm noise}$=0.1 M$_\\odot$')\n",
        "plt.xlabel(r'$m_{\\rm obs}$')\n",
        "plt.legend(loc='best')\n",
        "plt.show()"
      ],
      "metadata": {
        "colab": {
          "base_uri": "https://localhost:8080/",
          "height": 474
        },
        "id": "UPvy-HUsWQYs",
        "outputId": "fea0b1e8-88a7-45bb-9334-0c57ed4a4f5d"
      },
      "execution_count": null,
      "outputs": [
        {
          "output_type": "display_data",
          "data": {
            "text/plain": [
              "<Figure size 640x480 with 1 Axes>"
            ],
            "image/png": "[encoded data removed]"
          },
          "metadata": {}
        }
      ]
    },
    {
      "cell_type": "markdown",
      "source": [
        "**The uncertainty in the sum/difference of two Gaussian variables is equal to the sum of uncertainties of the two variables in quadrature**<br>\n",
        "\n",
        "If $X$ and $Y$ are normally distributed with standard deviations $\\sigma_X$ and $\\sigma_Y$, then $Z\\equiv X\\pm Y$ is also normally distributed, with a standard deviation equal to $\\sigma_Z = \\sqrt{\\sigma_X^2 + \\sigma_Y^2}$.<br>\n",
        "\n",
        "Note that the uncertainties always ADD in quadrature regardless of whether the original variables are being added or subtracted.\n"
      ],
      "metadata": {
        "id": "LqHDrjBZXeQB"
      }
    },
    {
      "cell_type": "code",
      "source": [
        "m_obs_tot, sig_m_tot = 4.5, 1.2\n",
        "m_obs_pri, sig_m_pri = 3.1, 0.8\n",
        "m_obs_sec = m_obs_tot - m_obs_pri\n",
        "sig_m_sec = np.sqrt(sig_m_tot**2 + sig_m_pri**2)\n",
        "\n",
        "print(f\"The secondary mass is {np.round(m_obs_sec, decimals=2)}\")\n",
        "print(f\"Its uncertainty is {np.round(sig_m_sec, decimals=2)}\")\n"
      ],
      "metadata": {
        "colab": {
          "base_uri": "https://localhost:8080/"
        },
        "id": "YjqxsoYpYdn9",
        "outputId": "d5c29ec3-6136-42c5-cd5a-5c7a0ff73d38"
      },
      "execution_count": null,
      "outputs": [
        {
          "output_type": "stream",
          "name": "stdout",
          "text": [
            "The secondary mass is 1.4\n",
            "Its uncertainty is 1.44\n"
          ]
        }
      ]
    },
    {
      "cell_type": "markdown",
      "source": [
        "### Yikes! In this case the data quality is low enough that negative secondary masses are, in principle, not entirely excluded."
      ],
      "metadata": {
        "id": "SAFJ0daOZu9f"
      }
    },
    {
      "cell_type": "code",
      "source": [
        "np.random.seed(1001) # reproducibility\n",
        "m_sec_samp = norm.rvs(loc=m_obs_sec, scale=sig_m_sec, size=1000)\n",
        "\n",
        "c = plt.hist(m_sec_samp, histtype='step')\n",
        "plt.plot([m_obs_sec, m_obs_sec], [0, c[0].max()], 'r--', label=r'observed mass')\n",
        "plt.ylim(0, c[0].max() * 1.05)\n",
        "plt.title(f'1000 estimates of secondary mass with noise = {np.round(sig_m_sec, decimals=2)}')\n",
        "plt.xlabel(r'$m_{\\rm obs}$')\n",
        "plt.legend(loc='best')\n",
        "plt.show()"
      ],
      "metadata": {
        "colab": {
          "base_uri": "https://localhost:8080/",
          "height": 472
        },
        "id": "ZCrfob4ZRO_X",
        "outputId": "696619c9-2e0b-4d6b-df4d-322045367069"
      },
      "execution_count": null,
      "outputs": [
        {
          "output_type": "display_data",
          "data": {
            "text/plain": [
              "<Figure size 640x480 with 1 Axes>"
            ],
            "image/png": "[encoded data removed]"
          },
          "metadata": {}
        }
      ]
    },
    {
      "cell_type": "markdown",
      "source": [
        "### The solution to this problem hints at an issue with the assumption of Gaussain uncertainties: many physical quantities, such as stellar mass, are non-negative by definition.\n",
        "\n",
        "### Observations for these quantities may be better modeled by an asymmetric distribution that tends to a Gaussian for higher data quality."
      ],
      "metadata": {
        "id": "vujcH3kmx2--"
      }
    },
    {
      "cell_type": "markdown",
      "source": [
        "#Problem 2: nonlinear functions, error propagation, converting magnitudes to fluxes"
      ],
      "metadata": {
        "id": "Ny69hzZsoEOC"
      }
    },
    {
      "cell_type": "markdown",
      "source": [
        "This problem deals with one of the most frequently-used nonlinear transformations used in astronomy, that of conversions between magnitudes and fluxes.<br>\n",
        "\n",
        "There are two important considerations when propagating uncertainties in this situation.\n"
      ],
      "metadata": {
        "id": "xh5mH4zYoahJ"
      }
    },
    {
      "cell_type": "markdown",
      "source": [
        "### 1.  **The distribution of the uncertainty in the nonlinear function is NOT Gaussian. In fact, it may not even be symmetric, in which case a single uncertainty value does not have the same meaning (in the $\\pm$ sense).**\n",
        "\n",
        "\n",
        "### 2.   **The method of computing the uncertainty typically involves assuming that the function is linear. For nonlinear functions, one needs to check whether this assumption will still produce an accurate uncertainty estimate.**"
      ],
      "metadata": {
        "id": "HCpWMmZzrwNX"
      }
    },
    {
      "cell_type": "markdown",
      "source": [
        "\n",
        "\n",
        "### As an example, let's consider the transformation $y = \\log_{10}{x}$. Let $x$ be a Gaussian variable with mean value $x_{_0}$ and uncertainty $\\sigma_x$.\n"
      ],
      "metadata": {
        "id": "WkJKEWmIy9Dp"
      }
    },
    {
      "cell_type": "code",
      "source": [
        "x0 = 5\n",
        "sigma_x = np.array([0.5, 1.0, 2.0])\n",
        "fig, (ax1, ax2) = plt.subplots(1, 2)\n",
        "for sig in sigma_x:\n",
        "  rel_unc_x = np.round(100 * sig / x0, decimals=1)\n",
        "  # print(f\"The relative uncertainty in x is {rel_unc_x}%\")\n",
        "\n",
        "  np.random.seed(10001)\n",
        "  x_samp = norm.rvs(loc=x0, scale=sig, size=10000)\n",
        "  _ = ax1.hist(x_samp, histtype='step', label=f'rel_unc_x = {rel_unc_x}%', density=True)\n",
        "\n",
        "  y_samp = np.log10(x_samp)\n",
        "  y0 = np.nanmean(y_samp)\n",
        "  sigma_y = np.nanstd(y_samp)\n",
        "  rel_unc_y = np.round(100 * sigma_y / y0, decimals=1)\n",
        "  # print(f\"The mean value of y is {np.round(y0, decimals=1)}\")\n",
        "  # print(f\"The relative uncertainty estimated for y is {rel_unc_y}%\")\n",
        "\n",
        "  _ = ax2.hist(y_samp, histtype='step', label=f'rel_unc_y = {rel_unc_y}%', density=True)\n",
        "\n",
        "ax1.legend(loc='best')\n",
        "ax2.legend(loc='best')\n",
        "_ = ax2.set_xlim(y0 - 5 * sigma_y, y0 + 5 * sigma_y)"
      ],
      "metadata": {
        "colab": {
          "base_uri": "https://localhost:8080/",
          "height": 465
        },
        "id": "PcdTCUVJsHNs",
        "outputId": "4ead7cd5-9485-4a8c-bf3c-34b981f4ccd8"
      },
      "execution_count": null,
      "outputs": [
        {
          "output_type": "stream",
          "name": "stderr",
          "text": [
            "<ipython-input-62-bbd97b08d8c8>:12: RuntimeWarning: invalid value encountered in log10\n",
            "  y_samp = np.log10(x_samp)\n"
          ]
        },
        {
          "output_type": "display_data",
          "data": {
            "text/plain": [
              "<Figure size 640x480 with 2 Axes>"
            ],
            "image/png": "[encoded data removed]"
          },
          "metadata": {}
        }
      ]
    },
    {
      "cell_type": "markdown",
      "source": [
        ">>Notice\n",
        ">>1.  The distribution of $x$ is always Gaussian, but its spread increases until it eventually samples negative values.\n",
        ">>2.  The distribution of $\\log_{10}{x}$ deviates from symmetry/Gaussianity as the relative uncertainty in $x$ increases. The distribution is skewed towards smaller values.\n",
        ">>3.  Negative values for $x$ produce invalid values of $\\log_{10}{x}$, which are not represented in the second plot. However, these NaNs will result in NaN means and standard deviations unless filtered out."
      ],
      "metadata": {
        "id": "ovSxqGQcwjkQ"
      }
    },
    {
      "cell_type": "markdown",
      "source": [
        "### Error propagation using the first-order Taylor approximation\n",
        "\n",
        "\n",
        ">>The typical procedure for error propagation for functions of a variable is to use the Taylor Series:<br>\n",
        ">>$\\hspace{4ex}f(x_{_0} + \\Delta x_{_0}) - f(x_{_0}) \\equiv \\Delta f = \\Bigg(\\displaystyle{df(x)\\over dx}\\Bigg)_{_{x_{_0}}}\\ \\Delta x\\ + \\Bigg(\\displaystyle{d^2f(x)\\over dx^2}\\Bigg)_{_{x_{_0}}}\\ \\displaystyle{(\\Delta x)^2\\over 2!}\\ + \\Bigg(\\displaystyle{d^3f(x)\\over dx^3}\\Bigg)_{_{x_{_0}}}\\ \\displaystyle{(\\Delta x)^3\\over 3!}\\ + \\cdots$<br>\n",
        ">>which is then truncated to first order:<br>\n",
        "$\\hspace{4ex} \\Delta f \\approx \\Bigg(\\displaystyle{df(x)\\over dx}\\Bigg)_{_{x_{_0}}}\\ \\Delta x$<br>\n",
        ">>The above expression is exact for linear functions, so it works when used for linear combinations, such as for Problem 1 (using partial derivatives w.r.t. each variable).<br>\n",
        ">>For nonlinear functions, the validity of the approximation depends on the magnitude of $\\Delta x$.<br>"
      ],
      "metadata": {
        "id": "Tiqp0-Xw-C0g"
      }
    },
    {
      "cell_type": "markdown",
      "source": [
        "### Error propagation for the product or quotient of two variables\n",
        "\n",
        ">>> If $X$ and $Y$ are two normally distributed variables and $Z\\equiv X * Y$, what is the error in $Z$ w.r.t. the errors in $X$ and $Y$?<br><br>\n",
        ">>> The \"standard\" method involves transforming to log-space, so that we end up with a sum:<br>\n",
        "$\\xi \\equiv \\ln{X}; \\eta \\equiv \\ln{Y}; \\zeta \\equiv \\xi + \\eta$<br><br>\n",
        "{\\bf Assuming that the new variables are also normally distributed,}<br>\n",
        "$\\sigma_\\zeta = \\sqrt{\\sigma_\\xi^2 + \\sigma_\\eta^2}$<br>\n",
        "We then transform this back to the original variables using the first-order Taylor approximation<br>\n",
        "$\\displaystyle{\\sigma_Z\\over Z} = \\sqrt{(\\displaystyle{\\sigma_X\\over X})^2 + (\\displaystyle{\\sigma_Y\\over Y})^2}$<br><br>\n",
        "That is, we compute the relative uncertainty in $Z$ by adding the relative uncertainties of $X$ and $Y$ in quadrature.\n",
        "\n",
        "### Notice that this result depends on the assumption that the logarithm of a Gaussian variable is also normally distributed. We saw in the above problem that this is NOT TRUE if the relative uncertainties in the source variables are not small."
      ],
      "metadata": {
        "id": "1VmIsUoMzdIa"
      }
    },
    {
      "cell_type": "markdown",
      "source": [
        "### More meaningful error estimate for asymmetric distributions/nonlinear functions: Monte Carlo + equal-tailed intervals.<br>\n",
        "\n",
        "For asymmetric functions, the mean, median, and mode do not coincide. In addition, the standard deviation is no longer an intuitive measure of the spread around the typical value. We can compute a 68% interval and use its bounds as the left and right uncertainties instead.<br>\n",
        "\n",
        "A 68% **equal-tailed confidence/credible interval** is such that it **rejects 16% probability on either side of it**. Such an interval will **always include the median (which is the location to either side of which there is 50% of the probability mass)**, but there's no guarantee that it will include the mean or mode (especially for highly asymmetric functions).\n",
        "\n",
        "It therefore makes sense to quote the 16th, 50th, and 84th percentiles for asymmetric distributions."
      ],
      "metadata": {
        "id": "ysrxfm1ixnGW"
      }
    },
    {
      "cell_type": "code",
      "source": [
        "import warnings\n",
        "warnings.filterwarnings(action='ignore', category=RuntimeWarning)\n",
        "x0 = 5.0\n",
        "sigma_x = 2.0\n",
        "np.random.seed(10001)\n",
        "x_samp = norm.rvs(loc=x0, scale=sigma_x, size=10000)\n",
        "y_samp = np.log10(x_samp)\n",
        "\n",
        "y_mean = np.nanmean(y_samp)\n",
        "y_std = np.nanstd(y_samp)\n",
        "k = np.nonzero(x_samp > 0)[0]\n",
        "p0, p1, p2 = np.percentile(y_samp[k], [16, 50, 84])\n",
        "\n",
        "\n",
        "print(f\"Mean: {y_mean}\")\n",
        "print(f\"Median: {str(p[1])}\")\n",
        "print(f\"68% equal-tailed interval: {np.round(p0, 2), np.round(p2, 2)}\")\n",
        "# print(r\"${0}_{1}^{2}$\".format(str(p[1]), str(p[0]-p[1]), str(p[2]-p[1])))\n",
        "print(f\"Therefore, quoted result: {np.round(p1, 2)} {np.round(p0-p1, 2), np.round(p2-p1, 2)}\")"
      ],
      "metadata": {
        "colab": {
          "base_uri": "https://localhost:8080/"
        },
        "id": "z3tTzVtxyGoE",
        "outputId": "e2e9decc-979a-4b11-ba45-562147f5ca65"
      },
      "execution_count": null,
      "outputs": [
        {
          "output_type": "stream",
          "name": "stdout",
          "text": [
            "Mean: 0.6609076553715348\n",
            "Median: 0.7\n",
            "68% equal-tailed interval: (0.49, 0.85)\n",
            "Therefore, quoted result: 0.7 (-0.21, 0.14)\n"
          ]
        }
      ]
    },
    {
      "cell_type": "markdown",
      "source": [
        "### Converting magnitudes to fluxes\n",
        ">> Some good news here! There's an easy analytical way to estimate errors for fluxes if the magnitudes are assumed to be normally distributed.<br><br>\n",
        ">> ### If $X$ is normally distributed, $e^X$ has a [log-normal distribution](https://en.wikipedia.org/wiki/Log-normal_distribution).<br><br>\n",
        "\n",
        "## If $X$ is Gaussian with mean $\\mu$ and standard deviation $\\sigma$, then<br>\n",
        "> ## the MEDIAN of $Y=e^X$ is $e^\\mu$.<br>\n",
        "> ## the 68% range around the median is $e^{\\mu\\pm\\sigma}$.<br>\n"
      ],
      "metadata": {
        "id": "GqynBHw52Orp"
      }
    },
    {
      "cell_type": "markdown",
      "source": [
        "### We can apply this to the transformation from magnitudes to fluxes!<br>\n",
        "### If the magnitude is normally distributed with mean $m$ and uncertainty $\\sigma_{\\rm m}$, the median flux corresponding to this is $F_{\\rm median} = F_{\\rm zp} 10^{-m/\\alpha}$, and the corresponding 68% interval is $F_{\\rm median}\\times 10^{\\pm\\sigma_{\\rm m}/\\alpha}$."
      ],
      "metadata": {
        "id": "z7QxmqKj3ws7"
      }
    },
    {
      "cell_type": "code",
      "execution_count": null,
      "metadata": {
        "colab": {
          "base_uri": "https://localhost:8080/"
        },
        "id": "wRJIwZYe_wBO",
        "outputId": "3c0523da-b23d-40b0-9adf-a6d0f54f20a0"
      },
      "outputs": [
        {
          "output_type": "stream",
          "name": "stdout",
          "text": [
            "Requirement already satisfied: astroquery in /usr/local/lib/python3.10/dist-packages (0.4.6)\n",
            "Requirement already satisfied: numpy>=1.16 in /usr/local/lib/python3.10/dist-packages (from astroquery) (1.25.2)\n",
            "Requirement already satisfied: astropy>=4.0 in /usr/local/lib/python3.10/dist-packages (from astroquery) (5.3.4)\n",
            "Requirement already satisfied: requests>=2.4.3 in /usr/local/lib/python3.10/dist-packages (from astroquery) (2.31.0)\n",
            "Requirement already satisfied: beautifulsoup4>=4.3.2 in /usr/local/lib/python3.10/dist-packages (from astroquery) (4.12.3)\n",
            "Requirement already satisfied: html5lib>=0.999 in /usr/local/lib/python3.10/dist-packages (from astroquery) (1.1)\n",
            "Requirement already satisfied: keyring>=4.0 in /usr/lib/python3/dist-packages (from astroquery) (23.5.0)\n",
            "Requirement already satisfied: pyvo>=1.1 in /usr/local/lib/python3.10/dist-packages (from astroquery) (1.5.1)\n",
            "Requirement already satisfied: pyerfa>=2.0 in /usr/local/lib/python3.10/dist-packages (from astropy>=4.0->astroquery) (2.0.1.1)\n",
            "Requirement already satisfied: PyYAML>=3.13 in /usr/local/lib/python3.10/dist-packages (from astropy>=4.0->astroquery) (6.0.1)\n",
            "Requirement already satisfied: packaging>=19.0 in /usr/local/lib/python3.10/dist-packages (from astropy>=4.0->astroquery) (23.2)\n",
            "Requirement already satisfied: soupsieve>1.2 in /usr/local/lib/python3.10/dist-packages (from beautifulsoup4>=4.3.2->astroquery) (2.5)\n",
            "Requirement already satisfied: six>=1.9 in /usr/local/lib/python3.10/dist-packages (from html5lib>=0.999->astroquery) (1.16.0)\n",
            "Requirement already satisfied: webencodings in /usr/local/lib/python3.10/dist-packages (from html5lib>=0.999->astroquery) (0.5.1)\n",
            "Requirement already satisfied: charset-normalizer<4,>=2 in /usr/local/lib/python3.10/dist-packages (from requests>=2.4.3->astroquery) (3.3.2)\n",
            "Requirement already satisfied: idna<4,>=2.5 in /usr/local/lib/python3.10/dist-packages (from requests>=2.4.3->astroquery) (3.6)\n",
            "Requirement already satisfied: urllib3<3,>=1.21.1 in /usr/local/lib/python3.10/dist-packages (from requests>=2.4.3->astroquery) (2.0.7)\n",
            "Requirement already satisfied: certifi>=2017.4.17 in /usr/local/lib/python3.10/dist-packages (from requests>=2.4.3->astroquery) (2024.2.2)\n"
          ]
        }
      ],
      "source": [
        "import numpy as np\n",
        "from scipy.stats import norm\n",
        "!pip install astroquery\n",
        "from astroquery.svo_fps import SvoFps"
      ]
    },
    {
      "cell_type": "markdown",
      "source": [
        "Aside: magnitude <--> flux conversion formulae<br><br>\n",
        "$\\hspace{4ex}F = F_{\\rm zp} \\times 10^{-m / \\alpha}$<br>\n",
        "$\\hspace{4ex}m = -\\alpha \\times \\log_{10}{\\displaystyle{F \\over F_{\\rm zp}}}$,<br><br>\n",
        "where $\\alpha=100^{1/5}\\approx 2.51189$. Most people/papers/introductory astro books use either 2.5 or 2.512."
      ],
      "metadata": {
        "id": "XVz28w2yL98J"
      }
    },
    {
      "cell_type": "markdown",
      "source": [
        "The most automated way to retrieve information for a standard filter is to obtain it from an online resource, such as the Spanish Virtual Observatory's Filter Profile Service using a Python package such as astroquery:"
      ],
      "metadata": {
        "id": "Fak44yv9OSKW"
      }
    },
    {
      "cell_type": "code",
      "source": [
        "filter_list = SvoFps.get_filter_list(facility='2MASS')\n",
        "fZP = filter_list['filterID' == '2MASS/2MASS.J']['ZeroPoint']"
      ],
      "metadata": {
        "id": "h0Ds-SImLCBQ"
      },
      "execution_count": null,
      "outputs": []
    },
    {
      "cell_type": "markdown",
      "source": [
        "Why?<br>\n",
        "1. reproducibility: if everyone uses the same resource, our results agree.\n",
        "2. prevention of reduplication/reduction of effort: if everyone uses an existing resource, we spend less effort and our results agree.\n",
        "3. scalability/automation: easily extended to large numbers of filters, or multiple iterations.\n"
      ],
      "metadata": {
        "id": "nUxM2XRYOgY4"
      }
    },
    {
      "cell_type": "code",
      "source": [
        "alpha = 100**(1/5.0)\n",
        "print(f\"True value: {alpha}\")\n",
        "print(f\"% error if using 2.5: {np.round(np.abs(2.5 - alpha) / alpha * 100, decimals=2)}\")\n",
        "print(f\"% error if using 2.512: {np.round(np.abs(2.512 - alpha) / alpha * 100, decimals=3)}\")"
      ],
      "metadata": {
        "colab": {
          "base_uri": "https://localhost:8080/"
        },
        "id": "Bwc0L94GLWcQ",
        "outputId": "8169e4e2-39ab-460b-9ce9-cecbd4ba653b"
      },
      "execution_count": null,
      "outputs": [
        {
          "output_type": "stream",
          "name": "stdout",
          "text": [
            "True value: 2.51188643150958\n",
            "% error if using 2.5: 0.47\n",
            "% error if using 2.512: 0.005\n"
          ]
        }
      ]
    },
    {
      "cell_type": "code",
      "source": [
        "m = 21.006\n",
        "sigma_m = np.array([0.512, 2.406, 4.001])\n",
        "F_median = fZP * 10**(-m / alpha)\n",
        "for s in sigma_m:\n",
        "  sigma_F_lo, sigma_F_hi = F_median * 10**(-s / alpha), F_median * 10**(s / alpha)\n",
        "  sigma_F_standard = np.log(10.0) / alpha * s\n",
        "  print(f\"For sigma_m = {s} mag:\")\n",
        "  print(f\"    68% interval: {sigma_F_lo, sigma_F_hi} mag.\")\n",
        "  print(f\"    standard value: {sigma_F_standard} mag.\")\n"
      ],
      "metadata": {
        "id": "OCv1SwthoZ4M"
      },
      "execution_count": null,
      "outputs": []
    }
  ]
}